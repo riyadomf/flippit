{
 "cells": [
  {
   "cell_type": "code",
   "execution_count": null,
   "id": "6e3c792f",
   "metadata": {
    "vscode": {
     "languageId": "plaintext"
    }
   },
   "outputs": [],
   "source": [
    "# Import necessary libraries for data analysis and visualization\n",
    "import pandas as pd\n",
    "import numpy as np\n",
    "import matplotlib.pyplot as plt\n",
    "import seaborn as sns\n",
    "import json # Used for potentially nested JSON data in columns\n",
    "import re # Used for regular expressions to clean text data\n",
    "\n",
    "# Set visualization style for prettier plots\n",
    "sns.set_style('whitegrid')\n",
    "plt.style.use('fivethirtyeight')\n",
    "\n",
    "# Display plots inline in the notebook\n",
    "%matplotlib inline\n",
    "\n",
    "print(\"Libraries imported successfully.\")"
   ]
  }
 ],
 "metadata": {
  "language_info": {
   "name": "python"
  }
 },
 "nbformat": 4,
 "nbformat_minor": 5
}
